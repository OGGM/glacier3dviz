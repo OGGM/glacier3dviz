{
 "cells": [
  {
   "cell_type": "markdown",
   "id": "e6a36582-cbf0-4dd9-97e7-4435ee1f52aa",
   "metadata": {},
   "source": [
    "# Advanced visualizations\n",
    "\n",
    "This tutorial showcases more advanced options available in Glacier:3D-Viz. It assumes that you have reviewed the previous tutorials and are somewhat familiar with the basic workflow."
   ]
  },
  {
   "cell_type": "markdown",
   "id": "fddb5575-543e-4b3b-b0e4-9e4fc338abfc",
   "metadata": {},
   "source": [
    "## Moving camera for animations\n",
    "\n",
    "An engaging effect can be achieved by changing your point of view during an animation. Currently, Glacier:3D-Viz supports two options for the camera trajectory, `'linear'` or `'rotate'`."
   ]
  },
  {
   "cell_type": "markdown",
   "id": "ab1d4692-00b8-4edc-b80e-81d8e86abe56",
   "metadata": {},
   "source": [
    "### Linear camera movement\n",
    "\n",
    "With the option `'linear'` you can define a start and an end point, with the camera moving in a straight line between them during the animation. Instructions on how to interactively determine the start and end points are provided in the [general_styling](general_styling.ipynb) tutorial. Here, we use this to define our start and end points:"
   ]
  },
  {
   "cell_type": "markdown",
   "id": "1ab2f13f-75d7-412a-afd5-19ab08c062b6",
   "metadata": {},
   "source": [
    "<div class=\"alert alert-danger\">\n",
    "    <b>\n",
    "        The interactive <code>viz.show()</code> command currently does not display well in the Jupyter Book. You will get better results by executing the notebook locally. We are working on improving this!</b>\n",
    "</div>"
   ]
  },
  {
   "cell_type": "code",
   "execution_count": null,
   "id": "f4621896-f7e9-4df3-80af-d849cb5fd637",
   "metadata": {
    "tags": []
   },
   "outputs": [],
   "source": [
    "import xarray as xr\n",
    "from glacier3dviz.tools import Glacier3DViz\n",
    "\n",
    "ds_glacier = xr.open_dataset(\"oggm_constant_climate_dummy_data.nc\")\n",
    "\n",
    "viz = Glacier3DViz(\n",
    "    ds_glacier,\n",
    "    camera_args={\n",
    "        'azimuth': -135,\n",
    "        'elevation': 20,\n",
    "    }\n",
    ")\n",
    "\n",
    "viz.show()"
   ]
  },
  {
   "cell_type": "code",
   "execution_count": null,
   "id": "5f30aedd-51bd-46fe-aac7-d343893a096d",
   "metadata": {
    "tags": []
   },
   "outputs": [],
   "source": [
    "# change the point of view interactively above, and when your satisfied execute this cells for the coordinates\n",
    "print(viz.get_camera_position())"
   ]
  },
  {
   "cell_type": "code",
   "execution_count": null,
   "id": "215377be-f066-4942-889e-6713182c17d8",
   "metadata": {
    "tags": []
   },
   "outputs": [],
   "source": [
    "# copy the coordinates and define your start and end point\n",
    "start_point = [-3.6, -6, 35]\n",
    "end_point = [0.4, -1.2, 6.5]\n",
    "\n",
    "# if you want to look at your current settings you can uncomment\n",
    "#viz.plot_year(2020, camera_args={'position': start_point})\n",
    "#viz.plot_year(2100, camera_args={'position': end_point})\n",
    "\n",
    "# and finally create the animation\n",
    "viz.export_animation(filename=\"dummy_moving_camera_animation.mp4\",\n",
    "                     camera_trajectory='linear',\n",
    "                     kwargs_camera_trajectory={\n",
    "                         'start_point': start_point,\n",
    "                         'end_point': end_point\n",
    "                     })"
   ]
  },
  {
   "cell_type": "code",
   "execution_count": null,
   "id": "f0b12e84-cbc7-412a-8b14-e8372c573cad",
   "metadata": {
    "tags": [
     "remove-input"
    ]
   },
   "outputs": [],
   "source": [
    "from IPython.display import HTML\n",
    "\n",
    "HTML(\"\"\"\n",
    "<div style=\"display: flex; justify-content: space-between;\">\n",
    "<video autoplay muted controls loop width=\"100%\">\n",
    "  <source src=\"../_static/dummy_moving_camera_animation.mp4\" type=\"video/mp4\">\n",
    "  Your browser does not support the video tag.\n",
    "</video>\n",
    "</div>\n",
    "\"\"\")"
   ]
  },
  {
   "cell_type": "markdown",
   "id": "4e6fcc43-907d-41cd-ab27-8bbd0ea0eff9",
   "metadata": {},
   "source": [
    "### Rotating camera movement\n",
    "\n",
    "With the `'rotate'` option, you can set up a rotating camera. You can define the `'start_angle'` and `'end_angle'` to control the rotation range of the camera. Additionally, you can adjust the `'camera_height'` and `'camera_radius'` (the distance from the center) to customize the camera's position.\n",
    "\n",
    "The camera will rotate around the map based on these parameters. To ensure the camera's path forms a perfect circle (and not an ellipse), you can set a `'camera_radius_ref_axis'` to either `'x'` or `'y'`. This scales all coordinates evenly along the chosen axis."
   ]
  },
  {
   "cell_type": "code",
   "execution_count": null,
   "id": "5b2dee01-b81f-4048-a44b-c1242d8fcbe3",
   "metadata": {},
   "outputs": [],
   "source": [
    "kwargs_rotate_camera_trajectory = dict(start_angle=180,\n",
    "                                       end_angle=300,\n",
    "                                       camera_height=10,\n",
    "                                       camera_radius=2,\n",
    "                                       camera_radius_ref_axis='x',\n",
    "                                       )\n",
    "\n",
    "viz.export_animation(filename='dummy_rotating_camera_example.mp4',\n",
    "                     camera_trajectory='rotate',\n",
    "                     kwargs_camera_trajectory=kwargs_rotate_camera_trajectory\n",
    "                     )"
   ]
  },
  {
   "cell_type": "code",
   "execution_count": null,
   "id": "fb27993b-da43-4e0b-adf2-e3d8e55e5b78",
   "metadata": {
    "tags": [
     "remove-input"
    ]
   },
   "outputs": [],
   "source": [
    "from IPython.display import HTML\n",
    "\n",
    "HTML(\"\"\"\n",
    "<div style=\"display: flex; justify-content: space-between;\">\n",
    "<video autoplay muted controls loop width=\"100%\">\n",
    "  <source src=\"../_static/dummy_rotating_camera_example.mp4\" type=\"video/mp4\">\n",
    "  Your browser does not support the video tag.\n",
    "</video>\n",
    "</div>\n",
    "\"\"\")"
   ]
  },
  {
   "cell_type": "markdown",
   "id": "deb999f9-a3fc-47f6-a059-05e13ab53c89",
   "metadata": {
    "tags": []
   },
   "source": [
    "## Side by side plots\n",
    "\n",
    "Displaying two simulations side by side can be useful, for example, to show the evolution of different scenarios or to compare two glacier models. To facilitate this, we implemented a small plotting function that allows you to add a single heading to the final side by side plot. The individual plots should be customized in the same way demonstrated in previous tutorials before merging them together. Let’s take a closer look:"
   ]
  },
  {
   "cell_type": "code",
   "execution_count": null,
   "id": "cf35d06f-96cb-45bc-8465-58ace4eeb70b",
   "metadata": {
    "tags": []
   },
   "outputs": [],
   "source": [
    "import xarray as xr\n",
    "from glacier3dviz.tools import Glacier3DViz, side_by_side_visualization\n",
    "\n",
    "ds_oggm = xr.open_dataset(\"oggm_constant_climate_dummy_data.nc\")\n",
    "\n",
    "viz_oggm = Glacier3DViz(\n",
    "    ds_oggm,\n",
    "    camera_args={\n",
    "        'azimuth': -135,\n",
    "        'elevation': 20,\n",
    "    }\n",
    ")\n",
    "\n",
    "ds_igm = xr.open_dataset(\"igm_dummy_data.nc\")\n",
    "\n",
    "viz_igm = Glacier3DViz(\n",
    "    ds_igm,\n",
    "    x='x',\n",
    "    y='y',\n",
    "    time='time',\n",
    "    topo_bedrock='topg',\n",
    "    ice_thickness='thk',\n",
    "    time_var_display='time',\n",
    "    camera_args={  \n",
    "        'azimuth': -135,\n",
    "        'elevation': 20,\n",
    "    }\n",
    ")\n",
    "\n",
    "side_by_side_visualization(\n",
    "    [viz_oggm, viz_igm],  # a list of Glacier3DViz objects to show\n",
    "    shape=(1, 2),  # how they should the layout look like (also more than two is possible)\n",
    "    title='Our dummy side by side plot',  # the title text\n",
    "    kwargs_title={'fontsize': 40,  # some arguments to customize the title\n",
    "                  'color': (1, 1, 1),\n",
    "                  'position': (0.5, 0.93),\n",
    "                 },\n",
    "    filename_plot=f'dummy_side_by_side_plot.png',  # if you want to save a plot, provide a path here\n",
    "    plot_year=2000,  # the year which should be plotted, is taken from first object in the list\n",
    "    filename_animation=None, # if you want to save an animation, provide a path here\n",
    "    framerate=80,  # framerate of the animation\n",
    "    quality=10,  # quality of the animatoin\n",
    "    # moving_camera_start_and_end_point=moving_camera_start_and_end_point, # see moving camera section above\n",
    ")"
   ]
  },
  {
   "cell_type": "markdown",
   "id": "c6727855-6185-4d32-933c-9a48ef9c3733",
   "metadata": {},
   "source": [
    "This plot contains only one colorbar for each element. You need to adjust the individual elements to create a cohesive overall appearance for a side-by-side plot. Instructions on how to customize individual plots are provided in the previous tutorials."
   ]
  },
  {
   "cell_type": "markdown",
   "id": "f3d1ce33-0690-456e-8927-d847f2169a7d",
   "metadata": {},
   "source": [
    "## Add images as insets\n",
    "\n",
    "After creating an animation, you may want to include additional information, such as a map showing the glacier's location or the logo of your university or company. For example, in this section, we add a globe to highlight the location of our glacier:"
   ]
  },
  {
   "cell_type": "code",
   "execution_count": null,
   "id": "b321e132-fda1-4b35-9ed0-7714a33f7843",
   "metadata": {
    "tags": []
   },
   "outputs": [],
   "source": [
    "import xarray as xr\n",
    "from glacier3dviz.tools import Glacier3DViz, plot_centered_globe, add_inset_with_ffmpeg\n",
    "\n",
    "ds_glacier = xr.open_dataset(\"oggm_constant_climate_dummy_data.nc\")\n",
    "\n",
    "plot_centered_globe(ds_glacier,\n",
    "                    filename='dummy_globe.png')"
   ]
  },
  {
   "cell_type": "markdown",
   "id": "6a617e30-f5eb-4b8f-9fab-1ac17cf39ab1",
   "metadata": {},
   "source": [
    "And now, we can incorporate this into our videos using FFmpeg. You have the option to scale the image (`scale_factor`) and set its position (`position`).\n",
    "\n",
    "For `position`, you define the top-left corner of the image as `'x:y'`. You can use `W`/`H` (width/height of the video) and `w`/`h` (width/height of the image) to calculate the desired placement. Example positions include:\n",
    "- Top-left: `'0:0'`\n",
    "- Centered: `'(W-w)/2:(H-h)/2'`\n",
    "- Bottom-right: `'W-w:H-h'`"
   ]
  },
  {
   "cell_type": "code",
   "execution_count": null,
   "id": "69c00290-40ee-4338-bf7b-b07abe974a40",
   "metadata": {
    "tags": []
   },
   "outputs": [],
   "source": [
    "add_inset_with_ffmpeg(\n",
    "    main_video=f'dummy_animation.mp4',\n",
    "    inset_image=f'dummy_globe.png',\n",
    "    output_video=f'dummy_animation_with_map.mp4',\n",
    "    position='20:20',  # top-left, with 20 pixels space to the edges\n",
    "    scale_factor=1,  # here you can resize the image\n",
    ")"
   ]
  },
  {
   "cell_type": "code",
   "execution_count": null,
   "id": "3795d3a0-b41a-487d-82dc-b6a2b77fc9b9",
   "metadata": {
    "tags": [
     "remove-input"
    ]
   },
   "outputs": [],
   "source": [
    "from IPython.display import HTML\n",
    "\n",
    "HTML(\"\"\"\n",
    "<div style=\"display: flex; justify-content: space-between;\">\n",
    "<video autoplay muted controls loop width=\"100%\">\n",
    "  <source src=\"../_static/dummy_animation_with_map.mp4\" type=\"video/mp4\">\n",
    "  Your browser does not support the video tag.\n",
    "</video>\n",
    "</div>\n",
    "\"\"\")"
   ]
  },
  {
   "cell_type": "markdown",
   "id": "7e3eeea8-602b-446d-b2a5-cfada0f846ad",
   "metadata": {},
   "source": [
    "## What's next?\n",
    "\n",
    "- Check out [General styling of 3D visualisations](general_styling.ipynb)\n",
    "- Check out [Annotating your 3D glacier visualisations](annotations.ipynb)\n",
    "- Or back to the [table of content](welcome.ipynb)"
   ]
  }
 ],
 "metadata": {
  "kernelspec": {
   "display_name": "Python 3 (ipykernel)",
   "language": "python",
   "name": "python3"
  },
  "language_info": {
   "codemirror_mode": {
    "name": "ipython",
    "version": 3
   },
   "file_extension": ".py",
   "mimetype": "text/x-python",
   "name": "python",
   "nbconvert_exporter": "python",
   "pygments_lexer": "ipython3",
   "version": "3.10.6"
  }
 },
 "nbformat": 4,
 "nbformat_minor": 5
}
