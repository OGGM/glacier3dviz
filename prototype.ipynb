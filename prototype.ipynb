{
 "cells": [
  {
   "cell_type": "code",
   "execution_count": null,
   "id": "34eda088-baeb-43bf-ad1a-22ab2aa202ca",
   "metadata": {},
   "outputs": [],
   "source": [
    "import ipywidgets as widgets\n",
    "import matplotlib.pyplot as plt\n",
    "import numpy as np\n",
    "import pandas as pd\n",
    "import xarray as xr\n",
    "import pyvista as pv\n",
    "import pvxarray\n",
    "\n",
    "from pv_glacier_source import PyVistaGlacierSource\n",
    "\n",
    "pv.set_jupyter_backend(\"trame\")"
   ]
  },
  {
   "cell_type": "code",
   "execution_count": null,
   "id": "0a50bc82-1d56-4fcb-931f-bba2cd21aec8",
   "metadata": {},
   "outputs": [],
   "source": [
    "ds_glacier = xr.open_dataset(\"data/topo_and_distributed_glacier_evolution.nc\")"
   ]
  },
  {
   "cell_type": "code",
   "execution_count": null,
   "id": "2ea40468-3061-4f7f-b0d3-9c1bcd6c94d0",
   "metadata": {},
   "outputs": [],
   "source": [
    "ds_glacier = ds_glacier.isel(x=slice(150, 350), y=slice(150, 350)).load()\n",
    "\n",
    "ds_glacier"
   ]
  },
  {
   "cell_type": "code",
   "execution_count": null,
   "id": "24e7cdf3-07e5-4104-aa25-76d237500d00",
   "metadata": {},
   "outputs": [],
   "source": [
    "from skimage.exposure.exposure import rescale_intensity\n",
    "\n",
    "def _rescale_intensity_pc(arr):\n",
    "    p02_98 = np.quantile(arr, [0.15, 0.85])\n",
    "    rescaled = rescale_intensity(arr, in_range=tuple(p02_98), out_range=(0, 255))\n",
    "    return rescaled.astype(np.uint8)\n",
    "\n",
    "\n",
    "def xr_rescale_intensity(da):\n",
    "    return xr.apply_ufunc(\n",
    "        _rescale_intensity_pc,\n",
    "        da,\n",
    "        input_core_dims=[[\"x\", \"y\"]],\n",
    "        output_core_dims=[[\"x\", \"y\"]],\n",
    "        vectorize=True\n",
    "    )"
   ]
  },
  {
   "cell_type": "code",
   "execution_count": null,
   "id": "83d3a95f-be80-4ef1-877f-7c4c9fbeb9d1",
   "metadata": {},
   "outputs": [],
   "source": [
    "import pystac_client\n",
    "import pyproj\n",
    "from xrspatial.multispectral import true_color\n",
    "\n",
    "x_min = ds_glacier.x.min()\n",
    "x_max = ds_glacier.x.max()\n",
    "y_min = ds_glacier.y.min()\n",
    "y_max = ds_glacier.y.max()\n",
    "\n",
    "utm_proj = pyproj.Proj(ds_glacier.attrs[\"pyproj_srs\"])\n",
    "lon_min, lat_min = utm_proj(x_min, y_min, inverse=True)\n",
    "lon_max, lat_max = utm_proj(x_max, y_max, inverse=True)\n",
    "\n",
    "catalog = pystac_client.Client.open(\n",
    "    \"https://earth-search.aws.element84.com/v0\"\n",
    ")\n",
    "catalog.add_conforms_to(\"ITEM_SEARCH\")\n",
    "catalog.add_conforms_to(\"QUERY\")\n",
    "\n",
    "search = catalog.search(\n",
    "    collections=[\"sentinel-s2-l2a-cogs\"],\n",
    "    bbox=[lon_min, lat_min, lon_max, lat_max],\n",
    "    query={\n",
    "        \"eo:cloud_cover\": {\"lt\": 10},\n",
    "        \"sentinel:valid_cloud_cover\": {\"eq\": True},\n",
    "    },\n",
    "    datetime=\"2020-07-01/2020-10-01\",\n",
    "    max_items=30,\n",
    ")\n",
    "\n",
    "da_img_raw = (\n",
    "    xr.open_dataset(search, engine=\"stac\")\n",
    "    .sel(x=slice(x_min, x_max), y=slice(y_max, y_min))\n",
    "    .get([\"B04\", \"B03\", \"B02\"])\n",
    "    .to_array(dim=\"band\")\n",
    ")\n",
    "\n",
    "da_img_raw"
   ]
  },
  {
   "cell_type": "code",
   "execution_count": null,
   "id": "20e541d1-d716-4898-ac5e-60fdd132f6a9",
   "metadata": {},
   "outputs": [],
   "source": [
    "da_img_raw = da_img_raw.compute()"
   ]
  },
  {
   "cell_type": "code",
   "execution_count": null,
   "id": "a50623f0-da02-475f-ab62-80825e3f4c1f",
   "metadata": {},
   "outputs": [],
   "source": [
    "da_img_rgb = (\n",
    "    da_img_raw\n",
    "    .median(dim=\"time\")\n",
    "    .pipe(lambda da: true_color(*da))\n",
    ")"
   ]
  },
  {
   "cell_type": "code",
   "execution_count": null,
   "id": "5ad6379e-e886-4e2a-a4a9-60be16336259",
   "metadata": {},
   "outputs": [],
   "source": [
    "da_img_rgb.plot.imshow(x=\"x\", y=\"y\", rgb=\"band\", aspect=1, size=6);"
   ]
  },
  {
   "cell_type": "code",
   "execution_count": null,
   "id": "d9641fc8-3d8c-4117-b8f8-8baa3284aaa3",
   "metadata": {},
   "outputs": [],
   "source": [
    "img_texture = pv.Texture(da_img_rgb.transpose(\"y\", \"x\", \"band\").values)"
   ]
  },
  {
   "cell_type": "code",
   "execution_count": null,
   "id": "0371f4db-a921-4853-871a-049a40b455ca",
   "metadata": {},
   "outputs": [],
   "source": [
    "topo_bedrock_mesh = ds_glacier.topo_bed_rock.pyvista.mesh(x=\"x\", y=\"y\")\n",
    "\n",
    "da_thickness = ds_glacier[\"simulation_distributed_thickness_BCC-CSM2-MR_ssp126\"]\n",
    "da_glacier_surf = ds_glacier.topo_bed_rock + da_thickness"
   ]
  },
  {
   "cell_type": "code",
   "execution_count": null,
   "id": "8ededcaf-a5da-4478-a223-436c78499a3f",
   "metadata": {},
   "outputs": [],
   "source": [
    "from pyvista import examples\n",
    "\n",
    "cubemap = examples.download_sky_box_cube_map()"
   ]
  },
  {
   "cell_type": "code",
   "execution_count": null,
   "id": "665a037a-cb75-4b3e-be28-17fc68ff9215",
   "metadata": {},
   "outputs": [],
   "source": [
    "warped = topo_bedrock_mesh.warp_by_scalar()\n",
    "warped.texture_map_to_plane(use_bounds=True, inplace=True);"
   ]
  },
  {
   "cell_type": "code",
   "execution_count": null,
   "id": "89c99707-b4ae-496c-ad1b-8f81f85e6081",
   "metadata": {},
   "outputs": [],
   "source": [
    "glacier_algo = PyVistaGlacierSource(da_glacier_surf)"
   ]
  },
  {
   "cell_type": "code",
   "execution_count": null,
   "id": "f65faaac-e2b3-48ec-899b-29e1ab82cd89",
   "metadata": {},
   "outputs": [],
   "source": [
    "pl = pv.Plotter(lighting=\"none\")\n",
    "\n",
    "pl.add_mesh(warped, texture=img_texture)\n",
    "pl.add_mesh(glacier_algo, color=\"pink\")\n",
    "\n",
    "pl.add_text(\n",
    "    f\"year: {glacier_algo.time}\",\n",
    "    position=\"upper_right\",\n",
    "    font_size=16,\n",
    "    name=\"current_year\",\n",
    ")\n",
    "\n",
    "light = pv.Light(\n",
    "    position=(0, 1, 1),\n",
    "    light_type=\"scene light\",\n",
    ")\n",
    "pl.add_light(light)\n",
    "\n",
    "pl.set_background(\"white\", top=\"lightblue\")\n",
    "#pl.set_environment_texture(cubemap)\n",
    "#pl.add_actor(cubemap.to_skybox())\n",
    "#pl.enable_eye_dome_lighting()"
   ]
  },
  {
   "cell_type": "code",
   "execution_count": null,
   "id": "6add7bf2-f1ad-4b1b-8385-1429de7360a4",
   "metadata": {},
   "outputs": [],
   "source": [
    "max_time = da_glacier_surf.time.size\n",
    "\n",
    "play = widgets.Play(\n",
    "    value=0,\n",
    "    min=0,\n",
    "    max=max_time - 1,\n",
    "    step=1,\n",
    "    interval=200,\n",
    "    description=\"Press play\",\n",
    "    disabled=False,\n",
    ")\n",
    "slider = widgets.IntSlider(min=0, max=max_time - 1, step=1)\n",
    "widgets.jslink((play, \"value\"), (slider, \"value\"))\n",
    "\n",
    "def update_glacier(change):\n",
    "    glacier_algo.time_step = change[\"new\"]\n",
    "    glacier_algo.update()\n",
    "    pl.add_text(\n",
    "        f\"year: {glacier_algo.time}\",\n",
    "        position=\"upper_right\",\n",
    "        font_size=16,\n",
    "        name=\"current_year\",\n",
    "    )\n",
    "    pl.update()\n",
    "\n",
    "slider.observe(update_glacier, names=\"value\")\n",
    "\n",
    "output = widgets.Output()\n",
    "\n",
    "with output:\n",
    "    pl.show()\n",
    "\n",
    "widgets.VBox([widgets.HBox([play, slider]), output])"
   ]
  },
  {
   "cell_type": "code",
   "execution_count": null,
   "id": "cb7ec58b-9c40-4e8d-9782-cc96a0e94c07",
   "metadata": {},
   "outputs": [],
   "source": []
  }
 ],
 "metadata": {
  "kernelspec": {
   "display_name": "Python 3 (ipykernel)",
   "language": "python",
   "name": "python3"
  },
  "language_info": {
   "codemirror_mode": {
    "name": "ipython",
    "version": 3
   },
   "file_extension": ".py",
   "mimetype": "text/x-python",
   "name": "python",
   "nbconvert_exporter": "python",
   "pygments_lexer": "ipython3",
   "version": "3.11.4"
  }
 },
 "nbformat": 4,
 "nbformat_minor": 5
}
