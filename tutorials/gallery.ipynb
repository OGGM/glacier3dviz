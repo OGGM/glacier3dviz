{
 "cells": [
  {
   "cell_type": "markdown",
   "id": "5f43f745-4a1f-4905-a6f6-371a170175f1",
   "metadata": {},
   "source": [
    "# Glacier:3D-Viz gallery\n",
    "\n",
    "This gallery is dedicated to showcasing the possibilities of Glacier:3D-Viz. If you’ve used the tool and would like to share your visualization here, you can contribute by submitting a pull request or opening an issue on [GitHub](https://github.com/OGGM/glacier3dviz) and let us know where we can find the video, so we can add it here."
   ]
  },
  {
   "cell_type": "markdown",
   "id": "7eb515b9-1961-40b1-aef6-300016c9d926",
   "metadata": {},
   "source": [
    "## OGGM v1.6.2. examples\n",
    "\n",
    "This are vizualization examples using OGGM v1.6.2, also available on [vimeo](https://vimeo.com/oggm):"
   ]
  },
  {
   "cell_type": "code",
   "execution_count": null,
   "id": "dbb26dba-fbbd-40be-8f3f-2b93fecaa25e",
   "metadata": {
    "tags": [
     "remove-input"
    ]
   },
   "outputs": [],
   "source": [
    "from IPython.display import HTML\n",
    "\n",
    "HTML(\"\"\"\n",
    "<div style=\"display: flex; justify-content: space-between;\">\n",
    "<video autoplay muted controls loop width=\"100%\">\n",
    "  <source src=\"../_static/aletsch_oggm.mp4\" type=\"video/mp4\">\n",
    "  Your browser does not support the video tag.\n",
    "</video>\n",
    "</div>\n",
    "\"\"\")"
   ]
  },
  {
   "cell_type": "code",
   "execution_count": null,
   "id": "00ea167e-3833-4b89-8c80-47198bcd2846",
   "metadata": {
    "tags": [
     "remove-input"
    ]
   },
   "outputs": [],
   "source": [
    "HTML(\"\"\"\n",
    "<div style=\"display: flex; justify-content: space-between;\">\n",
    "<video autoplay muted controls loop width=\"100%\">\n",
    "  <source src=\"../_static/karakoram_oggm.mp4\" type=\"video/mp4\">\n",
    "  Your browser does not support the video tag.\n",
    "</video>\n",
    "</div>\n",
    "\"\"\")"
   ]
  },
  {
   "cell_type": "code",
   "execution_count": null,
   "id": "fbb7d570-63a3-4594-baff-2707261704e7",
   "metadata": {
    "tags": [
     "remove-input"
    ]
   },
   "outputs": [],
   "source": [
    "HTML(\"\"\"\n",
    "<div style=\"display: flex; justify-content: space-between;\">\n",
    "<video autoplay muted controls loop width=\"100%\">\n",
    "  <source src=\"../_static/franz_joseph_oggm.mp4\" type=\"video/mp4\">\n",
    "  Your browser does not support the video tag.\n",
    "</video>\n",
    "</div>\n",
    "\"\"\")"
   ]
  },
  {
   "cell_type": "code",
   "execution_count": null,
   "id": "736a18d5-f4fb-4d62-bb6f-c24e633a93e9",
   "metadata": {
    "tags": [
     "remove-input"
    ]
   },
   "outputs": [],
   "source": [
    "HTML(\"\"\"\n",
    "<div style=\"display: flex; justify-content: space-between;\">\n",
    "<video autoplay muted controls loop width=\"100%\">\n",
    "  <source src=\"../_static/wovlerine_oggm.mp4\" type=\"video/mp4\">\n",
    "  Your browser does not support the video tag.\n",
    "</video>\n",
    "</div>\n",
    "\"\"\")"
   ]
  },
  {
   "cell_type": "code",
   "execution_count": null,
   "id": "ebd67383-9389-432f-961d-67b79db0f8b8",
   "metadata": {
    "tags": [
     "remove-input"
    ]
   },
   "outputs": [],
   "source": [
    "HTML(\"\"\"\n",
    "<div style=\"display: flex; justify-content: space-between;\">\n",
    "<video autoplay muted controls loop width=\"100%\">\n",
    "  <source src=\"../_static/urumqui_oggm.mp4\" type=\"video/mp4\">\n",
    "  Your browser does not support the video tag.\n",
    "</video>\n",
    "</div>\n",
    "\"\"\")"
   ]
  }
 ],
 "metadata": {
  "kernelspec": {
   "display_name": "Python 3 (ipykernel)",
   "language": "python",
   "name": "python3"
  },
  "language_info": {
   "codemirror_mode": {
    "name": "ipython",
    "version": 3
   },
   "file_extension": ".py",
   "mimetype": "text/x-python",
   "name": "python",
   "nbconvert_exporter": "python",
   "pygments_lexer": "ipython3",
   "version": "3.10.6"
  }
 },
 "nbformat": 4,
 "nbformat_minor": 5
}
