{
 "cells": [
  {
   "cell_type": "markdown",
   "id": "8aac4531-8c90-47f8-82fc-bd50038d8838",
   "metadata": {},
   "source": [
    "# General styling of 3D visualisations\n",
    "\n",
    "This notebook shows you how to change the general style of your plotting, including the size of the plot, colors, and the point of view. As the 3D tool is built around the fantastic [PyVista package](https://docs.pyvista.org/version/stable/), many things shown here can be further adapted following the links to the PyVista documentation provided throughout this notebook.\n",
    "\n",
    "For all options we change here, we also defined a set of default values. You can have a look at these default values by calling `viz.example_arg_default` to get a first overview of available options. For a more comprehensive overview use the link list provided below.\n",
    "\n",
    "A general remark: all options presented here can be changed on the fly by providing the kwargs when calling, for example, `.plot_year()`, or you can provide them directly during the creation of the 3D object. Everything that is not provided falls back to the default values. This approach was intended to make it easy to play around while searching for your best setting, and once you found it, you can define it during creation of the 3D-object to make the following code of creation animations or plots easier.\n",
    "\n",
    "## PyVista documentation overview\n",
    "\n",
    "Throughout this notebook, we are referring to the PyVista documentation for getting an overview of which options are available for customization. Here, we provide a link collection to the PyVista documentation for recurring OGGM:3D-Viz users:\n",
    "\n",
    "- `plotter_args`: [PyVista plotter documentation](https://docs.pyvista.org/version/stable/api/plotting/_autosummary/pyvista.plotter)\n",
    "- `add_mesh_ice_thick_args`: [PyVista add mesh documentation](https://docs.pyvista.org/version/stable/api/plotting/_autosummary/pyvista.plotter.add_mesh)\n",
    "- `add_mesh_topo_args`: [PyVista add mesh documentation](https://docs.pyvista.org/version/stable/api/plotting/_autosummary/pyvista.plotter.add_mesh)\n",
    "- `camera_args`: [PyVista camera documentation](https://docs.pyvista.org/version/stable/api/core/camera.html)\n",
    "- `light_args`: [PyVista light documentation](https://docs.pyvista.org/version/stable/api/core/_autosummary/pyvista.light)\n",
    "- `background_args`: [PyVista plotter set background documentation](https://docs.pyvista.org/version/stable/api/plotting/_autosummary/pyvista.plotter.set_background)\n",
    "- `text_time_args`: [PyVista plotter add text documentation](https://docs.pyvista.org/version/stable/api/plotting/_autosummary/pyvista.plotter.add_text)\n",
    "\n",
    "More information about these options is provided throughout this notebook."
   ]
  },
  {
   "cell_type": "markdown",
   "id": "afd697a1-b02a-41a6-8561-4119c65e52b0",
   "metadata": {},
   "source": [
    "## Open data and create 3D object"
   ]
  },
  {
   "cell_type": "code",
   "execution_count": null,
   "id": "9295baac-d576-4ffb-96fe-eecfdcd03eec",
   "metadata": {
    "tags": []
   },
   "outputs": [],
   "source": [
    "import xarray as xr\n",
    "from oggm_3dviz.tools import Glacier3DViz\n",
    "\n",
    "ds_glacier = xr.open_dataset(\"constant_climate_dummy_data.nc\")\n",
    "\n",
    "viz = Glacier3DViz(\n",
    "    ds_glacier,  # the dataset for visualisation\n",
    "    camera_args={  # arguments for the point of view\n",
    "        'azimuth': -135, # rotate the map around the z-axis\n",
    "        'elevation': 20,  # set the elevation above ground of the point of view\n",
    "    }\n",
    ")"
   ]
  },
  {
   "cell_type": "markdown",
   "id": "c7673aa6-73c3-44cb-b893-e4b79a9b0fa8",
   "metadata": {},
   "source": [
    "## Plotter arguments (e.g. window_size)\n",
    "\n",
    "The general visualization is made using a plotter, which can be customized using different arguments. For example, we can define the window_size of the final plot. For more options, check out the [documentation of pyvista.plotter](https://docs.pyvista.org/version/stable/api/plotting/_autosummary/pyvista.plotter)."
   ]
  },
  {
   "cell_type": "code",
   "execution_count": null,
   "id": "a4529f60-a1db-409c-8a19-29605456aa9d",
   "metadata": {
    "tags": []
   },
   "outputs": [],
   "source": [
    "# have a look at the default settings\n",
    "viz.plotter_args_default"
   ]
  },
  {
   "cell_type": "code",
   "execution_count": null,
   "id": "89a781e9-3854-4b89-9ee3-d9386ab20214",
   "metadata": {
    "tags": []
   },
   "outputs": [],
   "source": [
    "# define a new wineow_size for the resulting plot\n",
    "plotter_args_new = {'window_size': [650, 400]}\n",
    "\n",
    "viz.plot_year(2050,\n",
    "              plotter_args=plotter_args_new)"
   ]
  },
  {
   "cell_type": "markdown",
   "id": "80f7fe56-471a-465f-ae32-c765be030397",
   "metadata": {},
   "source": [
    "By changing the window size you probably also need to adapt the position of the colobars. How to do this is explained below."
   ]
  },
  {
   "cell_type": "markdown",
   "id": "9bce5d05-3751-40c8-b476-ba545d5fb870",
   "metadata": {},
   "source": [
    "## Ice Thickness color & colorbar\n",
    "\n",
    "Here we show how to change the colors and style of the ice thickness and how to adapt the corresponding colorbar. For more options check the [PyVista documentation for adding a mesh](https://docs.pyvista.org/version/stable/api/plotting/_autosummary/pyvista.plotter.add_mesh)."
   ]
  },
  {
   "cell_type": "code",
   "execution_count": null,
   "id": "96ab8ddd-0046-498f-aaff-18608b9d846f",
   "metadata": {
    "tags": []
   },
   "outputs": [],
   "source": [
    "# have a look at the default values\n",
    "viz.add_mesh_ice_thick_args_default"
   ]
  },
  {
   "cell_type": "code",
   "execution_count": null,
   "id": "70661ed6-6f34-4ead-ba73-72763b5f6969",
   "metadata": {
    "tags": []
   },
   "outputs": [],
   "source": [
    "add_mesh_ice_thick_args_new = {\n",
    "    'cmap' : 'viridis',  # use a different matplotlib cmap\n",
    "    'scalar_bar_args': {  # some arguments for the colorbar\n",
    "        'position_x': 0.1,  # set x_position of colorbar\n",
    "        'title': 'Ice Thick',  # change th tiles\n",
    "    }\n",
    "}\n",
    "\n",
    "viz.plot_year(2040,\n",
    "              add_mesh_ice_thick_args=add_mesh_ice_thick_args_new)"
   ]
  },
  {
   "cell_type": "markdown",
   "id": "84ac02f2-3cb7-4fe0-9db7-75d0bc15a709",
   "metadata": {},
   "source": [
    "## Bed topography color and colorbar\n",
    "\n",
    "If you like to adapt the styling of the bed topography, here you can find an example how this can be done. However, you can also try out using satellite data for the coloring of the topography, explained in the next section. And as always have a look at the [PyVista documentation](https://docs.pyvista.org/version/stable/api/plotting/_autosummary/pyvista.plotter.add_mesh) for more options."
   ]
  },
  {
   "cell_type": "code",
   "execution_count": null,
   "id": "dbc8810a-25a0-46e1-80aa-ee04c5b21ddd",
   "metadata": {
    "tags": []
   },
   "outputs": [],
   "source": [
    "# have a look at the defaults\n",
    "viz.add_mesh_topo_args_default"
   ]
  },
  {
   "cell_type": "code",
   "execution_count": null,
   "id": "d92a5873-672a-4602-9767-9d3b1a452e0a",
   "metadata": {
    "tags": []
   },
   "outputs": [],
   "source": [
    "add_mesh_topo_args_new = {\n",
    "    'cmap': 'cividis',\n",
    "    'scalar_bar_args': {\n",
    "        'position_x': 0.8,\n",
    "    }\n",
    "}\n",
    "\n",
    "viz.plot_year(2050,\n",
    "              add_mesh_topo_args=add_mesh_topo_args_new)"
   ]
  },
  {
   "cell_type": "markdown",
   "id": "52887292-76c7-41f4-9f17-5f0b4d903c46",
   "metadata": {},
   "source": [
    "## Bed topography texture from satellites\n",
    "\n",
    "A nice addition of OGGM:3D-Viz is that you can use bed topography from satellite data. However, currently this is only possible for a relative 'small' region, but we are working on a fix for this. Note, that for this we need to download some data and this might take some time. Once you have downloaded the data for your glacier and are adapting the styling further you can rely on the cached satellite data."
   ]
  },
  {
   "cell_type": "code",
   "execution_count": null,
   "id": "7f129e00-fea9-44d4-a4fc-ed25f08350bc",
   "metadata": {
    "tags": []
   },
   "outputs": [],
   "source": [
    "viz_satellite = Glacier3DViz(\n",
    "    ds_glacier.isel(  # the dataset for visualisation, here we select a smaller extent\n",
    "        x=slice(120, 355),\n",
    "        y=slice(120, 340)),\n",
    "    use_texture=True,  # decide to use background map (satellite imagery) for texture on the topography\n",
    "    camera_args={  # arguments for the point of view\n",
    "        'azimuth': -135, # rotate the map aroung the z-axis\n",
    "        'elevation': 20,  # set the elevation above ground of the point of view\n",
    "    }\n",
    ")"
   ]
  },
  {
   "cell_type": "code",
   "execution_count": null,
   "id": "ce58784d-7475-4e7b-ae9e-12c825c21fcc",
   "metadata": {
    "tags": []
   },
   "outputs": [],
   "source": [
    "viz_satellite.plot_year(2050)"
   ]
  },
  {
   "cell_type": "markdown",
   "id": "9b580c5a-8fcf-4015-8381-9f2c87813f6f",
   "metadata": {},
   "source": [
    "## Change point of view\n",
    "\n",
    "We already changed the camera position in the default initialisation of `viz` above. However, here once again explicitly showing some options, for more options checkout the [PyVista documentation](https://docs.pyvista.org/version/stable/api/core/camera.html)."
   ]
  },
  {
   "cell_type": "code",
   "execution_count": null,
   "id": "e289cfe4-0a94-4664-9332-394a8d909dd7",
   "metadata": {
    "tags": []
   },
   "outputs": [],
   "source": [
    "# have a look at the defaults, we set during initialisation of viz\n",
    "viz.camera_args_default"
   ]
  },
  {
   "cell_type": "code",
   "execution_count": null,
   "id": "190c3755-1c3f-490c-982c-9d585eddbc05",
   "metadata": {
    "tags": []
   },
   "outputs": [],
   "source": [
    "camera_args_new = {\n",
    "    'azimuth': -80,\n",
    "    'elevation': 50,\n",
    "    'zoom': 2.5,\n",
    "}\n",
    "\n",
    "viz.plot_year(2050,\n",
    "              camera_args=camera_args_new)"
   ]
  },
  {
   "cell_type": "markdown",
   "id": "7a3258dd-3897-470d-978e-0fc1641ca9e3",
   "metadata": {},
   "source": [
    "## Lighting\n",
    "\n",
    "The lighting of the plot can be important depending on your point of view and on the features you want to highlight in your visualisaitons. A comprehensive list of posibilities can be found in the [lightning documentation of PyVista](https://docs.pyvista.org/version/stable/api/core/_autosummary/pyvista.light)."
   ]
  },
  {
   "cell_type": "code",
   "execution_count": null,
   "id": "7796ab6c-8732-40b9-947e-26e1d046c763",
   "metadata": {
    "tags": []
   },
   "outputs": [],
   "source": [
    "# have a look at the defaults\n",
    "viz.light_args_default"
   ]
  },
  {
   "cell_type": "code",
   "execution_count": null,
   "id": "6b743efb-8b3f-4a75-9c05-956750f34aa6",
   "metadata": {
    "tags": []
   },
   "outputs": [],
   "source": [
    "light_args_new = {\n",
    "    'color': 'red'\n",
    "}\n",
    "\n",
    "viz.plot_year(2050,\n",
    "              light_args=light_args_new,\n",
    "             )"
   ]
  },
  {
   "cell_type": "markdown",
   "id": "4d3f4e84-b9aa-4ffb-8ee5-d7d4530d109e",
   "metadata": {},
   "source": [
    "## Background color\n",
    "\n",
    "You might want to change the look of the background. By default it shows a gradual shift from white to lightblue, from bottom to top. However, you can set it as you wish, following the available options of the [set_background documentation of pyvista](https://docs.pyvista.org/version/stable/api/plotting/_autosummary/pyvista.plotter.set_background)."
   ]
  },
  {
   "cell_type": "code",
   "execution_count": null,
   "id": "fc01e575-5f51-425e-98da-51a124da7e42",
   "metadata": {
    "tags": []
   },
   "outputs": [],
   "source": [
    "# have a look at the defaults\n",
    "viz.background_args_default"
   ]
  },
  {
   "cell_type": "code",
   "execution_count": null,
   "id": "e3101afb-a866-438d-b89a-68fcad2b78ab",
   "metadata": {
    "tags": []
   },
   "outputs": [],
   "source": [
    "background_args_new = {\n",
    "    'color': 'red',\n",
    "    'top': 'yellow'\n",
    "}\n",
    "\n",
    "viz.plot_year(2050,\n",
    "              background_args=background_args_new)"
   ]
  },
  {
   "cell_type": "markdown",
   "id": "9d507faa-6857-4c36-9627-b114d7d2c8a7",
   "metadata": {},
   "source": [
    "## Define extend of shown data\n",
    "\n",
    "You can decide to show only part of your total dataset. For this you either can make a selection before providing the dataset to OGGM:3D-Viz:"
   ]
  },
  {
   "cell_type": "code",
   "execution_count": null,
   "id": "1fcb2970-e198-4c5c-a5f1-dcca1220ef14",
   "metadata": {
    "tags": []
   },
   "outputs": [],
   "source": [
    "ds_glacier_zoomed = ds_glacier.isel(x=slice(100, 360),\n",
    "                                    y=slice(100, 350))\n",
    "\n",
    "ds_glacier_zoomed.distributed_thickness.plot()"
   ]
  },
  {
   "cell_type": "code",
   "execution_count": null,
   "id": "624c1b75-423a-4ba0-9a22-82b4cd2169d5",
   "metadata": {
    "tags": []
   },
   "outputs": [],
   "source": [
    "viz_zoomed = Glacier3DViz(\n",
    "    ds_glacier_zoomed,  # the dataset for visualisation\n",
    "    camera_args={  # arguments for the point of view\n",
    "        'azimuth': -135, # rotate the map aroung the z-axis\n",
    "        'elevation': 20,  # set the elevation above ground of the point of view\n",
    "    }\n",
    ")\n",
    "\n",
    "viz_zoomed.plot_year(2020)"
   ]
  },
  {
   "cell_type": "markdown",
   "id": "90b7b727-3a5d-4586-ab55-7da41c174040",
   "metadata": {},
   "source": [
    "Or you can use the build in option for selecting a part of the center of your data:"
   ]
  },
  {
   "cell_type": "code",
   "execution_count": null,
   "id": "5dd203a3-c5e5-4793-9b1e-9cc9110226fb",
   "metadata": {
    "tags": []
   },
   "outputs": [],
   "source": [
    "viz_zoomed_2 = Glacier3DViz(\n",
    "    ds_glacier,  # the dataset for visualisation\n",
    "    x_nr_of_grid_points=300,  # how many grid points should shown along x-axis (centered)\n",
    "    y_nr_of_grid_points=300,  # how many grid pionts should shown along y-axis (centered)\n",
    "    camera_args={  # arguments for the point of view\n",
    "        'azimuth': -135, # rotate the map aroung the z-axis\n",
    "        'elevation': 20,  # set the elevation above ground of the point of view\n",
    "    }\n",
    ")\n",
    "\n",
    "viz_zoomed_2.plot_year(2020)"
   ]
  },
  {
   "cell_type": "markdown",
   "id": "fc7d1c4e-54f6-49a0-86d3-72eb13063798",
   "metadata": {},
   "source": [
    "## Change position and style of time label\n",
    "\n",
    "By default the shown year is displayed in the top right corner, but of course this also could be changed. See the [PyVista documentation](https://docs.pyvista.org/version/stable/api/plotting/_autosummary/pyvista.plotter.add_text) for all available options."
   ]
  },
  {
   "cell_type": "code",
   "execution_count": null,
   "id": "15604bbe-4658-422e-8ea1-dd0442d157a6",
   "metadata": {
    "tags": []
   },
   "outputs": [],
   "source": [
    "# look at the defaults\n",
    "viz.text_time_args_default"
   ]
  },
  {
   "cell_type": "code",
   "execution_count": null,
   "id": "b31418c3-ba11-485f-afa8-dc94b3e44451",
   "metadata": {
    "tags": []
   },
   "outputs": [],
   "source": [
    "text_time_args_new = {\n",
    "    'text': 'time: {:.1f}',\n",
    "    'position': 'upper_edge',\n",
    "    'font_size': 30,}\n",
    "\n",
    "viz.plot_year(2050,\n",
    "              text_time_args=text_time_args_new)"
   ]
  },
  {
   "cell_type": "markdown",
   "id": "5ac5bf2a-4921-4ae4-9549-a9de6f6e24d3",
   "metadata": {},
   "source": [
    "## What's next?\n",
    "\n",
    "- Check out [Annotating your 3D glacier visualisations](annotations.ipynb)\n",
    "- Or back to the [table of content](welcome.ipynb)"
   ]
  }
 ],
 "metadata": {
  "kernelspec": {
   "display_name": "Python 3 (ipykernel)",
   "language": "python",
   "name": "python3"
  },
  "language_info": {
   "codemirror_mode": {
    "name": "ipython",
    "version": 3
   },
   "file_extension": ".py",
   "mimetype": "text/x-python",
   "name": "python",
   "nbconvert_exporter": "python",
   "pygments_lexer": "ipython3",
   "version": "3.10.6"
  }
 },
 "nbformat": 4,
 "nbformat_minor": 5
}
