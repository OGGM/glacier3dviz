{
 "cells": [
  {
   "cell_type": "markdown",
   "id": "c151ca89-bcc3-47b0-ac8f-4ccf35fb79f1",
   "metadata": {},
   "source": [
    "# Welcome to the Glacier:3D-Viz Tutorials!"
   ]
  },
  {
   "cell_type": "code",
   "execution_count": null,
   "id": "bb1c18c3-e949-4448-8c9d-ecd1f56cdae2",
   "metadata": {
    "tags": [
     "remove-input"
    ]
   },
   "outputs": [],
   "source": [
    "from IPython.display import HTML\n",
    "\n",
    "HTML(\"\"\"\n",
    "<div style=\"display: flex; justify-content: space-between;\">\n",
    "<video autoplay muted controls loop width=\"100%\">\n",
    "  <source src=\"../_static/aletsch_oggm.mp4\" type=\"video/mp4\">\n",
    "  Your browser does not support the video tag.\n",
    "</video>\n",
    "</div>\n",
    "\"\"\")"
   ]
  },
  {
   "cell_type": "markdown",
   "id": "c543bd53-ac3b-4e09-a98c-0eba5d620d8f",
   "metadata": {
    "tags": []
   },
   "source": [
    "These notebooks will help you learn how to use the Glacier:3D-Viz tool to visualize changes in glaciers dynamically. Before you start the tutorials, please set up a conda/mamba environment using this [environment.yml](https://github.com/OGGM/glacier3dviz/blob/main/environment.yml) file. You can find instructions on how to do this in the [conda documentation](https://conda.io/projects/conda/en/latest/user-guide/tasks/manage-environments.html#creating-an-environment-from-an-environment-yml-file). After creating your conda environment you can install Glacier:3D-Viz in your terminal with the lines\n",
    "\n",
    "```\n",
    "conda activate glacier3dviz\n",
    "pip install --upgrade git+https://github.com/OGGM/glacier3dviz.git\n",
    "```\n",
    "\n",
    "If you find a bug or would like to add a new feature to Glacier:3D-Viz we are happy to help, just reach out to us on [GitHub](https://github.com/OGGM/glacier3dviz). If you are interested in glacier modeling on a large scale, consider joining the [OGGM slack channel](https://oggm.org/2022/10/11/Welcome-to-the-OGGM-Slack/).\n",
    "\n",
    "This tool uses the [PyVista library](https://docs.pyvista.org/version/stable/), which is excellent for 3D visualizations. If you use visuals created with Glacier:3D-Viz for your scientific work, please consider citing `PyVista` ([see here](https://pyvista.org/cite/)).\n",
    "\n",
    "<div style=\"display: flex; justify-content: space-between; width: 250px\">\n",
    "    <a href=\"https://pyvista.org\" target=\"_blank\" rel=\"noopener noreferrer\">\n",
    "        <img src=\"https://docs.pyvista.org/version/stable/_static/pyvista_logo_sm.png\" alt=\"PyVista logo\"/>\n",
    "    </a>\n",
    "</div>\n",
    "<br>\n",
    "Here is an overview of the tutorials available and what you will learn in each (you can click on the links to directly get to the chapters in the notebooks):\n",
    "\n",
    "1. [Getting Started with Glacier:3D-Viz](getting_started.ipynb)\n",
    "   - Understand the format of the input data.\n",
    "   - Learn how to create your first 3D visualization object.\n",
    "   - Explore how to display interactive plots, create animations, or make static plots.\n",
    "   - Use alternative input data (example using IGM).\n",
    "2. [General Styling of 3D Visualizations](general_styling.ipynb)\n",
    "   - Adjust the size of the figure.\n",
    "   - Choose colors and labels for ice thickness.\n",
    "   - Choose colors of topography (including the use of satellite images)\n",
    "   - Set the point of view.\n",
    "   - Modify lighting settings.\n",
    "   - Change the background color.\n",
    "   - Define extend of shown data.\n",
    "3. [Annotating Your 3D Glacier Visualizations](annotations.ipynb)\n",
    "   - Add arrow annotations (e.g. for a north arrow).\n",
    "   - Place point annotations (e.g. labeling a peak).\n",
    "   - Add text annotations (e.g. heading)\n",
    "   - Create outline annotations (e.g., show the extent of a glacier in the past).\n",
    "   - Include legend annotations (e.g., add a legend).\n",
    "   - Add multiple annotations at once.\n",
    "4. [Advanced Visualizations](advanced_visualizations.ipynb)\n",
    "   - side_by_side plots and animations\n",
    "   - moving camera in animations\n",
    "   - add images to animations (e.g. location maps, uni logos)\n",
    "5. [Example Gallery](gallery.ipynb)\n",
    "\n",
    "We hope you find these tutorials useful and enjoyable. Let's dive in!"
   ]
  }
 ],
 "metadata": {
  "kernelspec": {
   "display_name": "Python 3 (ipykernel)",
   "language": "python",
   "name": "python3"
  },
  "language_info": {
   "codemirror_mode": {
    "name": "ipython",
    "version": 3
   },
   "file_extension": ".py",
   "mimetype": "text/x-python",
   "name": "python",
   "nbconvert_exporter": "python",
   "pygments_lexer": "ipython3",
   "version": "3.10.6"
  }
 },
 "nbformat": 4,
 "nbformat_minor": 5
}
