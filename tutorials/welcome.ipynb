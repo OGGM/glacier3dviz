{
 "cells": [
  {
   "cell_type": "markdown",
   "id": "c543bd53-ac3b-4e09-a98c-0eba5d620d8f",
   "metadata": {
    "tags": []
   },
   "source": [
    "# Welcome to the OGGM:3D-Viz Tutorials!\n",
    "\n",
    "These notebooks will help you learn how to use the OGGM:3D-Viz tool to visualize changes in glaciers dynamically. Before you start the tutorials, please set up a conda/mamba environment using this [environment.yml](https://github.com/OGGM/oggm-3dviz/blob/main/environment.yml) file. You can find instructions on how to do this in the [conda documentation](https://conda.io/projects/conda/en/latest/user-guide/tasks/manage-environments.html#creating-an-environment-from-an-environment-yml-file). After creating your conda environment you can install OGGM:3D-Viz in your terminal with the lines\n",
    "\n",
    "```\n",
    "conda activate oggm-3dviz\n",
    "pip install --upgrade git+https://github.com/OGGM/oggm-3dviz.git\n",
    "```\n",
    "\n",
    "If you find a bug or would like to add a new feature to OGGM:3D-Viz we are happy to help, just reach out to us on [GitHub](https://github.com/OGGM/oggm-3dviz). If you are interested in glacier modeling on a large scale, consider joining the [OGGM slack channel](https://oggm.org/2022/10/11/Welcome-to-the-OGGM-Slack/).\n",
    "\n",
    "This tool uses the [PyVista library](https://docs.pyvista.org/version/stable/), which is excellent for 3D visualizations. If you use visuals created with OGGM-3D-Viz in your scientific work, please consider citing `PyVista`. You can find how to cite it on their website [here](https://pyvista.org/cite/).\n",
    "\n",
    "<div style=\"display: flex; align-items: center; justify-content: center; align-items: center; height: 80px;\">\n",
    "    <img src=\"https://oggm.org/img/logos/oggm_l_alpha.png\" alt=\"OGGM logo\"/>\n",
    "    <img src=\"../_static/ampersand.png\" alt=\"&\" style=\"margin-left: 30px;\"/>\n",
    "    <img src=\"https://docs.pyvista.org/version/stable/_static/pyvista_logo_sm.png\" alt=\"PyVista logo\"/> \n",
    "</div>\n",
    "<br>\n",
    "Here is an overview of the tutorials available and what you will learn in each:\n",
    "\n",
    "1. [Getting Started with OGGM:3D-Viz](getting_started.ipynb)\n",
    "   - Understand the format of the input data.\n",
    "   - Learn how to create your first 3D visualization object.\n",
    "   - Explore how to display interactive plots, create animations, or make static plots.\n",
    "2. [General Styling of 3D Visualizations](general_styling.ipynb)\n",
    "   - Adjust the size of the figure.\n",
    "   - Modify lighting settings.\n",
    "   - Change the background color.\n",
    "   - Set the point of view.\n",
    "   - Choose colors for ice thickness and topography (including the use of satellite data).\n",
    "3. [Annotating Your 3D Glacier Visualizations](annotations.ipynb)\n",
    "   - Add arrow annotations (e.g., for a north arrow).\n",
    "   - Place point annotations (e.g., labeling a peak).\n",
    "   - Create outline annotations (e.g., show the extent of a glacier in the past).\n",
    "   - Include legend annotations (e.g., add a legend).\n",
    "\n",
    "We hope you find these tutorials useful and enjoyable. Let's dive in!"
   ]
  }
 ],
 "metadata": {
  "kernelspec": {
   "display_name": "Python 3 (ipykernel)",
   "language": "python",
   "name": "python3"
  },
  "language_info": {
   "codemirror_mode": {
    "name": "ipython",
    "version": 3
   },
   "file_extension": ".py",
   "mimetype": "text/x-python",
   "name": "python",
   "nbconvert_exporter": "python",
   "pygments_lexer": "ipython3",
   "version": "3.10.6"
  }
 },
 "nbformat": 4,
 "nbformat_minor": 5
}
