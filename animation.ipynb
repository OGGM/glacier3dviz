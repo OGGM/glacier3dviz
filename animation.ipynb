{
 "cells": [
  {
   "cell_type": "code",
   "execution_count": null,
   "id": "34eda088-baeb-43bf-ad1a-22ab2aa202ca",
   "metadata": {},
   "outputs": [],
   "source": [
    "import pyvista as pv\n",
    "import xarray as xr\n",
    "\n",
    "from tools import Glacier3DViz\n",
    "\n",
    "pv.set_jupyter_backend(\"trame\")"
   ]
  },
  {
   "cell_type": "code",
   "execution_count": null,
   "id": "0e2d6b2e-cdc4-46bd-953c-f09272316aad",
   "metadata": {},
   "outputs": [],
   "source": [
    "ds_glacier = xr.open_dataset(\"data/topo_and_distributed_glacier_evolution.nc\")\n",
    "ds_glacier = ds_glacier.isel(x=slice(150, 350), y=slice(150, 350)).load()\n",
    "\n",
    "ds_glacier"
   ]
  },
  {
   "cell_type": "code",
   "execution_count": null,
   "id": "211866bf-2223-4a20-b9a4-ff0692c0c142",
   "metadata": {},
   "outputs": [],
   "source": [
    "viz = Glacier3DViz(\n",
    "    ds_glacier,\n",
    "    \"simulation_distributed_thickness_BCC-CSM2-MR_ssp126\",\n",
    ")\n",
    "\n",
    "viz.set_topo_texture(use_cache=True)\n",
    "viz.show()"
   ]
  },
  {
   "cell_type": "code",
   "execution_count": null,
   "id": "94706bfc-839e-44ba-be7b-9646c3244d0d",
   "metadata": {},
   "outputs": [],
   "source": [
    "viz.export_animation()"
   ]
  },
  {
   "cell_type": "code",
   "execution_count": null,
   "id": "26b1774a-19c2-40d4-ac8b-e71cf10d82c7",
   "metadata": {},
   "outputs": [],
   "source": [
    "viz.close()"
   ]
  },
  {
   "cell_type": "code",
   "execution_count": null,
   "id": "fec9bac6-2420-4b9f-b74b-1f82394b9c35",
   "metadata": {},
   "outputs": [],
   "source": []
  }
 ],
 "metadata": {
  "kernelspec": {
   "display_name": "Python 3 (ipykernel)",
   "language": "python",
   "name": "python3"
  },
  "language_info": {
   "codemirror_mode": {
    "name": "ipython",
    "version": 3
   },
   "file_extension": ".py",
   "mimetype": "text/x-python",
   "name": "python",
   "nbconvert_exporter": "python",
   "pygments_lexer": "ipython3",
   "version": "3.11.4"
  }
 },
 "nbformat": 4,
 "nbformat_minor": 5
}
