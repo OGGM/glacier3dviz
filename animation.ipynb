{
 "cells": [
  {
   "cell_type": "code",
   "execution_count": null,
   "id": "34eda088-baeb-43bf-ad1a-22ab2aa202ca",
   "metadata": {
    "tags": []
   },
   "outputs": [],
   "source": [
    "import pyvista as pv\n",
    "import xarray as xr\n",
    "import numpy as np\n",
    "\n",
    "from tools import Glacier3DViz\n",
    "\n",
    "pv.set_jupyter_backend(\"trame\")"
   ]
  },
  {
   "cell_type": "code",
   "execution_count": null,
   "id": "0e2d6b2e-cdc4-46bd-953c-f09272316aad",
   "metadata": {
    "tags": []
   },
   "outputs": [],
   "source": [
    "ds_glacier = xr.open_dataset(\"dummy_data.nc\")\n",
    "\n",
    "ds_glacier"
   ]
  },
  {
   "cell_type": "code",
   "execution_count": null,
   "id": "211866bf-2223-4a20-b9a4-ff0692c0c142",
   "metadata": {
    "tags": []
   },
   "outputs": [],
   "source": [
    "viz = Glacier3DViz(\n",
    "    ds_glacier,\n",
    "    \"distributed_thickness\",\n",
    "    x_nr_of_grid_points=200,  # how many grid points should shown along x-axis (centered)\n",
    "    y_nr_of_grid_points=200,  # how many grid pionts should shown along y-axis (centered)\n",
    "    zoom=1.5,\n",
    "    # azimuth, elevation and roll explained here https://docs.pyvista.org/version/stable/api/core/camera.html#controlling-camera-rotation\n",
    "    azimuth=-90,\n",
    "    elevation=10,\n",
    "    roll=None,\n",
    ")\n",
    "\n",
    "viz.set_topo_texture(use_cache=True)\n",
    "viz.show()"
   ]
  },
  {
   "cell_type": "code",
   "execution_count": null,
   "id": "94706bfc-839e-44ba-be7b-9646c3244d0d",
   "metadata": {
    "tags": []
   },
   "outputs": [],
   "source": [
    "viz.export_animation(framerate=20)"
   ]
  },
  {
   "cell_type": "code",
   "execution_count": null,
   "id": "26b1774a-19c2-40d4-ac8b-e71cf10d82c7",
   "metadata": {
    "tags": []
   },
   "outputs": [],
   "source": [
    "viz.close()"
   ]
  }
 ],
 "metadata": {
  "kernelspec": {
   "display_name": "Python 3 (ipykernel)",
   "language": "python",
   "name": "python3"
  },
  "language_info": {
   "codemirror_mode": {
    "name": "ipython",
    "version": 3
   },
   "file_extension": ".py",
   "mimetype": "text/x-python",
   "name": "python",
   "nbconvert_exporter": "python",
   "pygments_lexer": "ipython3",
   "version": "3.10.6"
  }
 },
 "nbformat": 4,
 "nbformat_minor": 5
}
